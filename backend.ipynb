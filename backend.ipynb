{
 "cells": [
  {
   "attachments": {},
   "cell_type": "markdown",
   "metadata": {},
   "source": [
    "Image Processing"
   ]
  },
  {
   "cell_type": "code",
   "execution_count": 2,
   "metadata": {},
   "outputs": [],
   "source": [
    "import cv2 \n",
    "import os\n",
    "import matplotlib.pyplot as plt\n",
    "import numpy as np"
   ]
  },
  {
   "cell_type": "code",
   "execution_count": 3,
   "metadata": {},
   "outputs": [],
   "source": [
    "directory = \"dataset/\"  #location\n",
    "classes = [\"with_mask\",\"without_mask\"]"
   ]
  },
  {
   "cell_type": "code",
   "execution_count": 4,
   "metadata": {},
   "outputs": [],
   "source": [
    "data = []  # to be stored\n",
    "img_size = 224"
   ]
  },
  {
   "cell_type": "code",
   "execution_count": 5,
   "metadata": {},
   "outputs": [],
   "source": [
    "def training():\n",
    "    for category in classes:\n",
    "        path = os.path.join(directory,category)\n",
    "        class_num = classes.index(category) #labels 0 or 1\n",
    "        for img in os .listdir(path):\n",
    "            try:\n",
    "                img_array = cv2.imread(os.path.join(path,img))\n",
    "                new_array = cv2.resize(img_array,(img_size,img_size))\n",
    "                data.append([new_array,class_num])\n",
    "            except Exception as e:\n",
    "                pass"
   ]
  },
  {
   "cell_type": "code",
   "execution_count": 6,
   "metadata": {},
   "outputs": [],
   "source": [
    "training()"
   ]
  },
  {
   "cell_type": "code",
   "execution_count": 7,
   "metadata": {},
   "outputs": [
    {
     "name": "stdout",
     "output_type": "stream",
     "text": [
      "1878\n"
     ]
    }
   ],
   "source": [
    "print(len(data))"
   ]
  },
  {
   "cell_type": "code",
   "execution_count": 8,
   "metadata": {},
   "outputs": [],
   "source": [
    "import random\n",
    "random.shuffle(data)"
   ]
  },
  {
   "cell_type": "code",
   "execution_count": 9,
   "metadata": {},
   "outputs": [],
   "source": [
    "X = []\n",
    "y = []\n",
    "\n",
    "for features,label in data:\n",
    "    X.append(features)\n",
    "    y.append(label)\n",
    "\n",
    "X = np.array(X).reshape(-1,img_size,img_size,3) # to be in numpy array "
   ]
  },
  {
   "cell_type": "code",
   "execution_count": 10,
   "metadata": {},
   "outputs": [],
   "source": [
    "X = X/255.0"
   ]
  },
  {
   "cell_type": "code",
   "execution_count": 11,
   "metadata": {},
   "outputs": [],
   "source": [
    "Y = np.array(y)"
   ]
  },
  {
   "attachments": {},
   "cell_type": "markdown",
   "metadata": {},
   "source": [
    "Model Building"
   ]
  },
  {
   "cell_type": "code",
   "execution_count": 12,
   "metadata": {},
   "outputs": [],
   "source": [
    "import tensorflow as tf\n",
    "from tensorflow import keras\n",
    "from tensorflow.keras import layers"
   ]
  },
  {
   "cell_type": "code",
   "execution_count": 13,
   "metadata": {},
   "outputs": [
    {
     "name": "stdout",
     "output_type": "stream",
     "text": [
      "Downloading data from https://storage.googleapis.com/tensorflow/keras-applications/mobilenet/mobilenet_1_0_224_tf.h5\n",
      "17225924/17225924 [==============================] - 4s 0us/step\n"
     ]
    }
   ],
   "source": [
    "model = tf.keras.applications.mobilenet.MobileNet()"
   ]
  },
  {
   "cell_type": "code",
   "execution_count": 14,
   "metadata": {},
   "outputs": [],
   "source": [
    "base_input = model.layers[0].input\n",
    "base_output = model.layers[-4].output"
   ]
  },
  {
   "cell_type": "code",
   "execution_count": 15,
   "metadata": {},
   "outputs": [],
   "source": [
    "flat_layer = layers.Flatten()(base_output) # input of flatten layer\n",
    "final_output = layers.Dense(1)(flat_layer) # 0 or 1 binary classifier\n",
    "final_output = layers.Activation('sigmoid')(final_output)"
   ]
  },
  {
   "cell_type": "code",
   "execution_count": 17,
   "metadata": {},
   "outputs": [
    {
     "name": "stdout",
     "output_type": "stream",
     "text": [
      "Epoch 1/10\n",
      "53/53 [==============================] - 178s 3s/step - loss: 0.1101 - accuracy: 0.9669 - val_loss: 0.0086 - val_accuracy: 1.0000\n",
      "Epoch 2/10\n",
      "53/53 [==============================] - 159s 3s/step - loss: 0.0206 - accuracy: 0.9923 - val_loss: 5.4611e-04 - val_accuracy: 1.0000\n",
      "Epoch 3/10\n",
      "53/53 [==============================] - 168s 3s/step - loss: 0.0043 - accuracy: 0.9976 - val_loss: 0.0207 - val_accuracy: 0.9947\n",
      "Epoch 4/10\n",
      "53/53 [==============================] - 166s 3s/step - loss: 0.0118 - accuracy: 0.9964 - val_loss: 0.0757 - val_accuracy: 0.9894\n",
      "Epoch 5/10\n",
      "53/53 [==============================] - 165s 3s/step - loss: 0.0113 - accuracy: 0.9982 - val_loss: 0.0508 - val_accuracy: 0.9840\n",
      "Epoch 6/10\n",
      "53/53 [==============================] - 164s 3s/step - loss: 0.0012 - accuracy: 0.9994 - val_loss: 0.0075 - val_accuracy: 0.9947\n",
      "Epoch 7/10\n",
      "53/53 [==============================] - 164s 3s/step - loss: 0.0011 - accuracy: 0.9994 - val_loss: 0.0106 - val_accuracy: 0.9947\n",
      "Epoch 8/10\n",
      "53/53 [==============================] - 164s 3s/step - loss: 6.6300e-04 - accuracy: 1.0000 - val_loss: 0.0250 - val_accuracy: 0.9947\n",
      "Epoch 9/10\n",
      "53/53 [==============================] - 165s 3s/step - loss: 4.7982e-04 - accuracy: 0.9994 - val_loss: 0.0070 - val_accuracy: 0.9947\n",
      "Epoch 10/10\n",
      "53/53 [==============================] - 165s 3s/step - loss: 9.4790e-05 - accuracy: 1.0000 - val_loss: 0.0038 - val_accuracy: 1.0000\n"
     ]
    },
    {
     "data": {
      "text/plain": [
       "<keras.callbacks.History at 0x216529c2290>"
      ]
     },
     "execution_count": 17,
     "metadata": {},
     "output_type": "execute_result"
    }
   ],
   "source": [
    "new_model = keras.Model(inputs = base_input , outputs = final_output) \n",
    "new_model.compile(loss=\"binary_crossentropy\", optimizer= \"adam\", metrics = [\"accuracy\"])\n",
    "new_model.fit(X, Y, epochs = 10, validation_split = 0.1)"
   ]
  },
  {
   "cell_type": "code",
   "execution_count": null,
   "metadata": {},
   "outputs": [],
   "source": [
    "new_model.save('my_model.h5')"
   ]
  },
  {
   "cell_type": "code",
   "execution_count": null,
   "metadata": {},
   "outputs": [],
   "source": []
  }
 ],
 "metadata": {
  "kernelspec": {
   "display_name": "Python 3",
   "language": "python",
   "name": "python3"
  },
  "language_info": {
   "codemirror_mode": {
    "name": "ipython",
    "version": 3
   },
   "file_extension": ".py",
   "mimetype": "text/x-python",
   "name": "python",
   "nbconvert_exporter": "python",
   "pygments_lexer": "ipython3",
   "version": "3.10.9 (tags/v3.10.9:1dd9be6, Dec  6 2022, 20:01:21) [MSC v.1934 64 bit (AMD64)]"
  },
  "vscode": {
   "interpreter": {
    "hash": "0e107293a1d140d83dbbf32995913b2c919f28a44c73f7b507ef912319e9e5c3"
   }
  }
 },
 "nbformat": 4,
 "nbformat_minor": 4
}
